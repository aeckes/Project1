{
 "cells": [
  {
   "cell_type": "code",
   "execution_count": 1,
   "metadata": {},
   "outputs": [],
   "source": [
    "import pandas as pd\n",
    "import csv\n",
    "from datetime import datetime \n",
    "import matplotlib.pyplot as plt"
   ]
  },
  {
   "cell_type": "code",
   "execution_count": 2,
   "metadata": {},
   "outputs": [
    {
     "data": {
      "text/html": [
       "<div>\n",
       "<style scoped>\n",
       "    .dataframe tbody tr th:only-of-type {\n",
       "        vertical-align: middle;\n",
       "    }\n",
       "\n",
       "    .dataframe tbody tr th {\n",
       "        vertical-align: top;\n",
       "    }\n",
       "\n",
       "    .dataframe thead th {\n",
       "        text-align: right;\n",
       "    }\n",
       "</style>\n",
       "<table border=\"1\" class=\"dataframe\">\n",
       "  <thead>\n",
       "    <tr style=\"text-align: right;\">\n",
       "      <th></th>\n",
       "      <th>Year</th>\n",
       "      <th>Month</th>\n",
       "      <th>Day</th>\n",
       "      <th>Total</th>\n",
       "      <th>North</th>\n",
       "      <th>South</th>\n",
       "    </tr>\n",
       "  </thead>\n",
       "  <tbody>\n",
       "    <tr>\n",
       "      <th>0</th>\n",
       "      <td>1874</td>\n",
       "      <td>5</td>\n",
       "      <td>1</td>\n",
       "      <td>-1.0</td>\n",
       "      <td>-1.0</td>\n",
       "      <td>-1.0</td>\n",
       "    </tr>\n",
       "    <tr>\n",
       "      <th>1</th>\n",
       "      <td>1874</td>\n",
       "      <td>5</td>\n",
       "      <td>2</td>\n",
       "      <td>-1.0</td>\n",
       "      <td>-1.0</td>\n",
       "      <td>-1.0</td>\n",
       "    </tr>\n",
       "    <tr>\n",
       "      <th>2</th>\n",
       "      <td>1874</td>\n",
       "      <td>5</td>\n",
       "      <td>3</td>\n",
       "      <td>-1.0</td>\n",
       "      <td>-1.0</td>\n",
       "      <td>-1.0</td>\n",
       "    </tr>\n",
       "    <tr>\n",
       "      <th>3</th>\n",
       "      <td>1874</td>\n",
       "      <td>5</td>\n",
       "      <td>4</td>\n",
       "      <td>-1.0</td>\n",
       "      <td>-1.0</td>\n",
       "      <td>-1.0</td>\n",
       "    </tr>\n",
       "    <tr>\n",
       "      <th>4</th>\n",
       "      <td>1874</td>\n",
       "      <td>5</td>\n",
       "      <td>5</td>\n",
       "      <td>-1.0</td>\n",
       "      <td>-1.0</td>\n",
       "      <td>-1.0</td>\n",
       "    </tr>\n",
       "  </tbody>\n",
       "</table>\n",
       "</div>"
      ],
      "text/plain": [
       "   Year  Month  Day  Total  North  South\n",
       "0  1874      5    1   -1.0   -1.0   -1.0\n",
       "1  1874      5    2   -1.0   -1.0   -1.0\n",
       "2  1874      5    3   -1.0   -1.0   -1.0\n",
       "3  1874      5    4   -1.0   -1.0   -1.0\n",
       "4  1874      5    5   -1.0   -1.0   -1.0"
      ]
     },
     "execution_count": 2,
     "metadata": {},
     "output_type": "execute_result"
    }
   ],
   "source": [
    "# The path to our CSV file\n",
    "file = \"Resources/daily_area.csv.txt\"\n",
    "\n",
    "# Read our purchase data into pandas\n",
    "df = pd.read_csv(file,delim_whitespace=True)\n",
    "\n",
    "df.rename(columns={\"YYYY\": \"Year\", \"MM\": \"Month\", \"DD\":\"Day\"},inplace = True)\n",
    "df.head()"
   ]
  },
  {
   "cell_type": "code",
   "execution_count": 3,
   "metadata": {},
   "outputs": [
    {
     "name": "stderr",
     "output_type": "stream",
     "text": [
      "C:\\ProgramData\\Anaconda3\\lib\\site-packages\\pandas\\core\\ops.py:1649: FutureWarning: elementwise comparison failed; returning scalar instead, but in the future will perform elementwise comparison\n",
      "  result = method(y)\n"
     ]
    },
    {
     "data": {
      "text/html": [
       "<div>\n",
       "<style scoped>\n",
       "    .dataframe tbody tr th:only-of-type {\n",
       "        vertical-align: middle;\n",
       "    }\n",
       "\n",
       "    .dataframe tbody tr th {\n",
       "        vertical-align: top;\n",
       "    }\n",
       "\n",
       "    .dataframe thead th {\n",
       "        text-align: right;\n",
       "    }\n",
       "</style>\n",
       "<table border=\"1\" class=\"dataframe\">\n",
       "  <thead>\n",
       "    <tr style=\"text-align: right;\">\n",
       "      <th></th>\n",
       "      <th>Year</th>\n",
       "      <th>Month</th>\n",
       "      <th>Day</th>\n",
       "      <th>Total</th>\n",
       "      <th>North</th>\n",
       "      <th>South</th>\n",
       "    </tr>\n",
       "  </thead>\n",
       "  <tbody>\n",
       "    <tr>\n",
       "      <th>0</th>\n",
       "      <td>1874</td>\n",
       "      <td>5</td>\n",
       "      <td>1</td>\n",
       "      <td>-1.0</td>\n",
       "      <td>-1.0</td>\n",
       "      <td>-1.0</td>\n",
       "    </tr>\n",
       "    <tr>\n",
       "      <th>1</th>\n",
       "      <td>1874</td>\n",
       "      <td>5</td>\n",
       "      <td>2</td>\n",
       "      <td>-1.0</td>\n",
       "      <td>-1.0</td>\n",
       "      <td>-1.0</td>\n",
       "    </tr>\n",
       "    <tr>\n",
       "      <th>2</th>\n",
       "      <td>1874</td>\n",
       "      <td>5</td>\n",
       "      <td>3</td>\n",
       "      <td>-1.0</td>\n",
       "      <td>-1.0</td>\n",
       "      <td>-1.0</td>\n",
       "    </tr>\n",
       "    <tr>\n",
       "      <th>3</th>\n",
       "      <td>1874</td>\n",
       "      <td>5</td>\n",
       "      <td>4</td>\n",
       "      <td>-1.0</td>\n",
       "      <td>-1.0</td>\n",
       "      <td>-1.0</td>\n",
       "    </tr>\n",
       "    <tr>\n",
       "      <th>4</th>\n",
       "      <td>1874</td>\n",
       "      <td>5</td>\n",
       "      <td>5</td>\n",
       "      <td>-1.0</td>\n",
       "      <td>-1.0</td>\n",
       "      <td>-1.0</td>\n",
       "    </tr>\n",
       "  </tbody>\n",
       "</table>\n",
       "</div>"
      ],
      "text/plain": [
       "   Year  Month  Day  Total  North  South\n",
       "0  1874      5    1   -1.0   -1.0   -1.0\n",
       "1  1874      5    2   -1.0   -1.0   -1.0\n",
       "2  1874      5    3   -1.0   -1.0   -1.0\n",
       "3  1874      5    4   -1.0   -1.0   -1.0\n",
       "4  1874      5    5   -1.0   -1.0   -1.0"
      ]
     },
     "execution_count": 3,
     "metadata": {},
     "output_type": "execute_result"
    }
   ],
   "source": [
    "# Remove row with missing readings (represented as -1)\n",
    "df = df.loc[df['Total'] != '-1.0'].reset_index(drop=True)\n",
    "df.head()"
   ]
  },
  {
   "cell_type": "code",
   "execution_count": 4,
   "metadata": {},
   "outputs": [
    {
     "data": {
      "text/html": [
       "<div>\n",
       "<style scoped>\n",
       "    .dataframe tbody tr th:only-of-type {\n",
       "        vertical-align: middle;\n",
       "    }\n",
       "\n",
       "    .dataframe tbody tr th {\n",
       "        vertical-align: top;\n",
       "    }\n",
       "\n",
       "    .dataframe thead th {\n",
       "        text-align: right;\n",
       "    }\n",
       "</style>\n",
       "<table border=\"1\" class=\"dataframe\">\n",
       "  <thead>\n",
       "    <tr style=\"text-align: right;\">\n",
       "      <th></th>\n",
       "      <th>Year</th>\n",
       "      <th>Month</th>\n",
       "      <th>Day</th>\n",
       "      <th>Total</th>\n",
       "      <th>North</th>\n",
       "      <th>South</th>\n",
       "    </tr>\n",
       "  </thead>\n",
       "  <tbody>\n",
       "    <tr>\n",
       "      <th>51014</th>\n",
       "      <td>2014</td>\n",
       "      <td>1</td>\n",
       "      <td>1</td>\n",
       "      <td>686.0</td>\n",
       "      <td>28.0</td>\n",
       "      <td>658.0</td>\n",
       "    </tr>\n",
       "    <tr>\n",
       "      <th>51015</th>\n",
       "      <td>2014</td>\n",
       "      <td>1</td>\n",
       "      <td>2</td>\n",
       "      <td>854.0</td>\n",
       "      <td>28.0</td>\n",
       "      <td>826.0</td>\n",
       "    </tr>\n",
       "    <tr>\n",
       "      <th>51016</th>\n",
       "      <td>2014</td>\n",
       "      <td>1</td>\n",
       "      <td>3</td>\n",
       "      <td>1974.0</td>\n",
       "      <td>56.0</td>\n",
       "      <td>1918.0</td>\n",
       "    </tr>\n",
       "    <tr>\n",
       "      <th>51017</th>\n",
       "      <td>2014</td>\n",
       "      <td>1</td>\n",
       "      <td>4</td>\n",
       "      <td>2198.0</td>\n",
       "      <td>56.0</td>\n",
       "      <td>2142.0</td>\n",
       "    </tr>\n",
       "    <tr>\n",
       "      <th>51018</th>\n",
       "      <td>2014</td>\n",
       "      <td>1</td>\n",
       "      <td>5</td>\n",
       "      <td>2394.0</td>\n",
       "      <td>70.0</td>\n",
       "      <td>2324.0</td>\n",
       "    </tr>\n",
       "  </tbody>\n",
       "</table>\n",
       "</div>"
      ],
      "text/plain": [
       "       Year  Month  Day   Total  North   South\n",
       "51014  2014      1    1   686.0   28.0   658.0\n",
       "51015  2014      1    2   854.0   28.0   826.0\n",
       "51016  2014      1    3  1974.0   56.0  1918.0\n",
       "51017  2014      1    4  2198.0   56.0  2142.0\n",
       "51018  2014      1    5  2394.0   70.0  2324.0"
      ]
     },
     "execution_count": 4,
     "metadata": {},
     "output_type": "execute_result"
    }
   ],
   "source": [
    "sunspots= df.loc[df[\"Year\"] > 2013, [\n",
    "    \"Year\", \"Month\", \"Day\",\"Total\",\"North\",\"South\"]]\n",
    "sunspots.head()"
   ]
  },
  {
   "cell_type": "code",
   "execution_count": 5,
   "metadata": {},
   "outputs": [],
   "source": [
    "#sunspots.set_index([\"Year\"], inplace = True, \n",
    "                    #append = True, drop = True) \n",
    "#sunspots.head()"
   ]
  },
  {
   "cell_type": "code",
   "execution_count": 6,
   "metadata": {},
   "outputs": [],
   "source": [
    "#Output to a CSV file\n",
    "sunspots.to_csv(\"output/sunspot_2014_19.csv\")\n",
    "    "
   ]
  },
  {
   "cell_type": "code",
   "execution_count": 7,
   "metadata": {},
   "outputs": [],
   "source": [
    "#Converting Year,Month,DAy to Date\n",
    "months = []\n",
    "for i,row in sunspots.iterrows():\n",
    "    months.append(datetime(int(row['Year']),int(row['Month']), 1).strftime(\"%Y-%m-%d\"))\n",
    "                "
   ]
  },
  {
   "cell_type": "code",
   "execution_count": 8,
   "metadata": {},
   "outputs": [
    {
     "name": "stdout",
     "output_type": "stream",
     "text": [
      "{'2014-01-01': 0, '2014-02-01': 0, '2014-03-01': 0, '2014-04-01': 0, '2014-05-01': 0, '2014-06-01': 0, '2014-07-01': 0, '2014-08-01': 0, '2014-09-01': 0, '2014-10-01': 0, '2014-11-01': 0, '2014-12-01': 0, '2015-01-01': 0, '2015-02-01': 0, '2015-03-01': 0, '2015-04-01': 0, '2015-05-01': 0, '2015-06-01': 0, '2015-07-01': 0, '2015-08-01': 0, '2015-09-01': 0, '2015-10-01': 0, '2015-11-01': 0, '2015-12-01': 0, '2016-01-01': 0, '2016-02-01': 0, '2016-03-01': 0, '2016-04-01': 0, '2016-05-01': 0, '2016-06-01': 0, '2016-07-01': 0, '2016-08-01': 0, '2016-09-01': 0, '2016-10-01': 0, '2016-11-01': 0, '2016-12-01': 0, '2017-01-01': 0, '2017-02-01': 0, '2017-03-01': 0, '2017-04-01': 0, '2017-05-01': 0, '2017-06-01': 0, '2017-07-01': 0, '2017-08-01': 0, '2017-09-01': 0, '2017-10-01': 0, '2017-11-01': 0, '2017-12-01': 0, '2018-01-01': 0, '2018-02-01': 0, '2018-03-01': 0, '2018-04-01': 0, '2018-05-01': 0, '2018-06-01': 0, '2018-07-01': 0, '2018-08-01': 0, '2018-09-01': 0, '2018-10-01': 0, '2018-11-01': 0, '2018-12-01': 0, '2019-01-01': 0, '2019-02-01': 0, '2019-03-01': 0, '2019-04-01': 0, '2019-05-01': 0, '2019-06-01': 0, '2019-07-01': 0, '2019-08-01': 0}\n"
     ]
    }
   ],
   "source": [
    "unique_months = {}\n",
    "for month in months:\n",
    "    if month not in unique_months.keys():\n",
    "        unique_months[month]=0\n",
    "print(unique_months)\n",
    "\n"
   ]
  },
  {
   "cell_type": "code",
   "execution_count": 9,
   "metadata": {},
   "outputs": [
    {
     "name": "stdout",
     "output_type": "stream",
     "text": [
      "{'2014-01-01': 46473.0, '2014-02-01': 56427.0, '2014-03-01': 31822.0, '2014-04-01': 33628.0, '2014-05-01': 29470.0, '2014-06-01': 25928.0, '2014-07-01': 37366.0, '2014-08-01': 24528.0, '2014-09-01': 33376.0, '2014-10-01': 54782.0, '2014-11-01': 36568.0, '2014-12-01': 44646.0, '2015-01-01': 29974.0, '2015-02-01': 15484.0, '2015-03-01': 15897.0, '2015-04-01': 21098.0, '2015-05-01': 19376.0, '2015-06-01': 25214.0, '2015-07-01': 15960.0, '2015-08-01': 22191.4, '2015-09-01': 17808.0, '2015-10-01': 14406.0, '2015-11-01': 11914.0, '2015-12-01': 17640.0, '2016-01-01': 11368.0, '2016-02-01': 11074.0, '2016-03-01': 9184.0, '2016-04-01': 16996.0, '2016-05-01': 15582.0, '2016-06-01': 6622.0, '2016-07-01': 10374.0, '2016-08-01': 8764.0, '2016-09-01': 10969.0, '2016-10-01': 9044.0, '2016-11-01': 2884.0, '2016-12-01': 3038.0, '2017-01-01': 5432.0, '2017-02-01': 2884.0, '2017-03-01': 3024.0, '2017-04-01': 10458.0, '2017-05-01': 2340.8, '2017-06-01': 4158.0, '2017-07-01': 8225.0, '2017-08-01': 10738.0, '2017-09-01': 24920.0, '2017-10-01': 5180.0, '2017-11-01': 798.0, '2017-12-01': 966.0, '2018-01-01': 266.0, '2018-02-01': 3066.0, '2018-03-01': 84.0, '2018-04-01': 840.0, '2018-05-01': 1050.0, '2018-06-01': 1890.0, '2018-07-01': 14.0, '2018-08-01': 658.0, '2018-09-01': 56.0, '2018-10-01': 238.0, '2018-11-01': 336.0, '2018-12-01': 140.0, '2019-01-01': 1036.0, '2019-02-01': 0.0, '2019-03-01': 1666.0, '2019-04-01': 5600.0, '2019-05-01': 5390.0, '2019-06-01': 56.0, '2019-07-01': 28.0, '2019-08-01': 14.0}\n"
     ]
    }
   ],
   "source": [
    "#Adding Totals to Dates\n",
    "for i, row in sunspots.iterrows():\n",
    "    unique_months[datetime(int(row['Year']),int(row['Month']), 1).strftime(\"%Y-%m-%d\")] = unique_months[datetime(int(row['Year']),int(row['Month']), 1).strftime(\"%Y-%m-%d\")] + row['Total']\n",
    "print(unique_months)"
   ]
  },
  {
   "cell_type": "code",
   "execution_count": 10,
   "metadata": {},
   "outputs": [
    {
     "data": {
      "text/html": [
       "<div>\n",
       "<style scoped>\n",
       "    .dataframe tbody tr th:only-of-type {\n",
       "        vertical-align: middle;\n",
       "    }\n",
       "\n",
       "    .dataframe tbody tr th {\n",
       "        vertical-align: top;\n",
       "    }\n",
       "\n",
       "    .dataframe thead th {\n",
       "        text-align: right;\n",
       "    }\n",
       "</style>\n",
       "<table border=\"1\" class=\"dataframe\">\n",
       "  <thead>\n",
       "    <tr style=\"text-align: right;\">\n",
       "      <th></th>\n",
       "      <th>0</th>\n",
       "    </tr>\n",
       "  </thead>\n",
       "  <tbody>\n",
       "    <tr>\n",
       "      <th>2014-01-01</th>\n",
       "      <td>46473.0</td>\n",
       "    </tr>\n",
       "    <tr>\n",
       "      <th>2014-02-01</th>\n",
       "      <td>56427.0</td>\n",
       "    </tr>\n",
       "    <tr>\n",
       "      <th>2014-03-01</th>\n",
       "      <td>31822.0</td>\n",
       "    </tr>\n",
       "    <tr>\n",
       "      <th>2014-04-01</th>\n",
       "      <td>33628.0</td>\n",
       "    </tr>\n",
       "    <tr>\n",
       "      <th>2014-05-01</th>\n",
       "      <td>29470.0</td>\n",
       "    </tr>\n",
       "  </tbody>\n",
       "</table>\n",
       "</div>"
      ],
      "text/plain": [
       "                  0\n",
       "2014-01-01  46473.0\n",
       "2014-02-01  56427.0\n",
       "2014-03-01  31822.0\n",
       "2014-04-01  33628.0\n",
       "2014-05-01  29470.0"
      ]
     },
     "execution_count": 10,
     "metadata": {},
     "output_type": "execute_result"
    }
   ],
   "source": [
    "#convert dictionary to Dataframe\n",
    "sunspot_new=pd.DataFrame.from_dict(unique_months,orient='index')\n",
    "    \n",
    "sunspot_new.head()"
   ]
  },
  {
   "cell_type": "code",
   "execution_count": 11,
   "metadata": {},
   "outputs": [
    {
     "data": {
      "text/html": [
       "<div>\n",
       "<style scoped>\n",
       "    .dataframe tbody tr th:only-of-type {\n",
       "        vertical-align: middle;\n",
       "    }\n",
       "\n",
       "    .dataframe tbody tr th {\n",
       "        vertical-align: top;\n",
       "    }\n",
       "\n",
       "    .dataframe thead th {\n",
       "        text-align: right;\n",
       "    }\n",
       "</style>\n",
       "<table border=\"1\" class=\"dataframe\">\n",
       "  <thead>\n",
       "    <tr style=\"text-align: right;\">\n",
       "      <th></th>\n",
       "      <th>Total</th>\n",
       "    </tr>\n",
       "  </thead>\n",
       "  <tbody>\n",
       "    <tr>\n",
       "      <th>2014-01-01</th>\n",
       "      <td>46473.0</td>\n",
       "    </tr>\n",
       "    <tr>\n",
       "      <th>2014-02-01</th>\n",
       "      <td>56427.0</td>\n",
       "    </tr>\n",
       "    <tr>\n",
       "      <th>2014-03-01</th>\n",
       "      <td>31822.0</td>\n",
       "    </tr>\n",
       "    <tr>\n",
       "      <th>2014-04-01</th>\n",
       "      <td>33628.0</td>\n",
       "    </tr>\n",
       "    <tr>\n",
       "      <th>2014-05-01</th>\n",
       "      <td>29470.0</td>\n",
       "    </tr>\n",
       "  </tbody>\n",
       "</table>\n",
       "</div>"
      ],
      "text/plain": [
       "              Total\n",
       "2014-01-01  46473.0\n",
       "2014-02-01  56427.0\n",
       "2014-03-01  31822.0\n",
       "2014-04-01  33628.0\n",
       "2014-05-01  29470.0"
      ]
     },
     "execution_count": 11,
     "metadata": {},
     "output_type": "execute_result"
    }
   ],
   "source": [
    "#Renaming Column name\n",
    "sunspot_new.columns = ['Total']\n",
    "sunspot_new.head()\n"
   ]
  },
  {
   "cell_type": "code",
   "execution_count": 12,
   "metadata": {},
   "outputs": [],
   "source": [
    "#Resetting Index\n",
    "sunspot_new.reset_index(inplace=True)"
   ]
  },
  {
   "cell_type": "code",
   "execution_count": 13,
   "metadata": {},
   "outputs": [
    {
     "data": {
      "text/html": [
       "<div>\n",
       "<style scoped>\n",
       "    .dataframe tbody tr th:only-of-type {\n",
       "        vertical-align: middle;\n",
       "    }\n",
       "\n",
       "    .dataframe tbody tr th {\n",
       "        vertical-align: top;\n",
       "    }\n",
       "\n",
       "    .dataframe thead th {\n",
       "        text-align: right;\n",
       "    }\n",
       "</style>\n",
       "<table border=\"1\" class=\"dataframe\">\n",
       "  <thead>\n",
       "    <tr style=\"text-align: right;\">\n",
       "      <th></th>\n",
       "      <th>Date</th>\n",
       "      <th>Total</th>\n",
       "    </tr>\n",
       "  </thead>\n",
       "  <tbody>\n",
       "    <tr>\n",
       "      <th>0</th>\n",
       "      <td>2014-01-01</td>\n",
       "      <td>46473.0</td>\n",
       "    </tr>\n",
       "    <tr>\n",
       "      <th>1</th>\n",
       "      <td>2014-02-01</td>\n",
       "      <td>56427.0</td>\n",
       "    </tr>\n",
       "    <tr>\n",
       "      <th>2</th>\n",
       "      <td>2014-03-01</td>\n",
       "      <td>31822.0</td>\n",
       "    </tr>\n",
       "    <tr>\n",
       "      <th>3</th>\n",
       "      <td>2014-04-01</td>\n",
       "      <td>33628.0</td>\n",
       "    </tr>\n",
       "    <tr>\n",
       "      <th>4</th>\n",
       "      <td>2014-05-01</td>\n",
       "      <td>29470.0</td>\n",
       "    </tr>\n",
       "  </tbody>\n",
       "</table>\n",
       "</div>"
      ],
      "text/plain": [
       "         Date    Total\n",
       "0  2014-01-01  46473.0\n",
       "1  2014-02-01  56427.0\n",
       "2  2014-03-01  31822.0\n",
       "3  2014-04-01  33628.0\n",
       "4  2014-05-01  29470.0"
      ]
     },
     "execution_count": 13,
     "metadata": {},
     "output_type": "execute_result"
    }
   ],
   "source": [
    "#REname column 1 to Date\n",
    "sunspot_new.rename(columns={\"index\": \"Date\"},inplace=True)\n",
    "sunspot_new.head()"
   ]
  },
  {
   "cell_type": "code",
   "execution_count": 14,
   "metadata": {},
   "outputs": [
    {
     "name": "stdout",
     "output_type": "stream",
     "text": [
      "{'2014-01-01': 52353.0, '2014-02-01': 63833.0, '2014-03-01': 42252.0, '2014-04-01': 48790.0, '2014-05-01': 42294.0, '2014-06-01': 35784.0, '2014-07-01': 43148.0, '2014-08-01': 37702.0, '2014-09-01': 44338.0, '2014-10-01': 58184.0, '2014-11-01': 45332.0, '2014-12-01': 54110.0, '2015-01-01': 37352.0, '2015-02-01': 25116.0, '2015-03-01': 19908.0, '2015-04-01': 35294.0, '2015-05-01': 31710.0, '2015-06-01': 42980.0, '2015-07-01': 26502.0, '2015-08-01': 25062.800000000003, '2015-09-01': 22624.0, '2015-10-01': 21756.0, '2015-11-01': 22750.0, '2015-12-01': 27286.0, '2016-01-01': 20678.0, '2016-02-01': 18830.0, '2016-03-01': 15820.0, '2016-04-01': 31108.0, '2016-05-01': 21700.0, '2016-06-01': 8428.0, '2016-07-01': 20146.0, '2016-08-01': 15750.0, '2016-09-01': 20825.0, '2016-10-01': 12866.0, '2016-11-01': 5334.0, '2016-12-01': 4214.0, '2017-01-01': 10850.0, '2017-02-01': 5642.0, '2017-03-01': 5292.0, '2017-04-01': 14574.0, '2017-05-01': 4496.8, '2017-06-01': 8316.0, '2017-07-01': 8526.0, '2017-08-01': 19054.0, '2017-09-01': 39270.0, '2017-10-01': 8540.0, '2017-11-01': 1148.0, '2017-12-01': 1890.0, '2018-01-01': 336.0, '2018-02-01': 3122.0, '2018-03-01': 140.0, '2018-04-01': 1652.0, '2018-05-01': 1988.0, '2018-06-01': 3780.0, '2018-07-01': 28.0, '2018-08-01': 1008.0, '2018-09-01': 84.0, '2018-10-01': 238.0, '2018-11-01': 672.0, '2018-12-01': 182.0, '2019-01-01': 2072.0, '2019-02-01': 0.0, '2019-03-01': 3332.0, '2019-04-01': 11200.0, '2019-05-01': 10780.0, '2019-06-01': 112.0, '2019-07-01': 28.0, '2019-08-01': 14.0}\n"
     ]
    }
   ],
   "source": [
    "##Adding North Total to Dates\n",
    "for i, row in sunspots.iterrows():\n",
    "    unique_months[datetime(int(row['Year']),int(row['Month']), 1).strftime(\"%Y-%m-%d\")] = unique_months[datetime(int(row['Year']),int(row['Month']), 1).strftime(\"%Y-%m-%d\")] + row['North'] \n",
    "print(unique_months)"
   ]
  },
  {
   "cell_type": "code",
   "execution_count": 15,
   "metadata": {},
   "outputs": [
    {
     "data": {
      "text/html": [
       "<div>\n",
       "<style scoped>\n",
       "    .dataframe tbody tr th:only-of-type {\n",
       "        vertical-align: middle;\n",
       "    }\n",
       "\n",
       "    .dataframe tbody tr th {\n",
       "        vertical-align: top;\n",
       "    }\n",
       "\n",
       "    .dataframe thead th {\n",
       "        text-align: right;\n",
       "    }\n",
       "</style>\n",
       "<table border=\"1\" class=\"dataframe\">\n",
       "  <thead>\n",
       "    <tr style=\"text-align: right;\">\n",
       "      <th></th>\n",
       "      <th>0</th>\n",
       "    </tr>\n",
       "  </thead>\n",
       "  <tbody>\n",
       "    <tr>\n",
       "      <th>2014-01-01</th>\n",
       "      <td>52353.0</td>\n",
       "    </tr>\n",
       "    <tr>\n",
       "      <th>2014-02-01</th>\n",
       "      <td>63833.0</td>\n",
       "    </tr>\n",
       "    <tr>\n",
       "      <th>2014-03-01</th>\n",
       "      <td>42252.0</td>\n",
       "    </tr>\n",
       "    <tr>\n",
       "      <th>2014-04-01</th>\n",
       "      <td>48790.0</td>\n",
       "    </tr>\n",
       "    <tr>\n",
       "      <th>2014-05-01</th>\n",
       "      <td>42294.0</td>\n",
       "    </tr>\n",
       "  </tbody>\n",
       "</table>\n",
       "</div>"
      ],
      "text/plain": [
       "                  0\n",
       "2014-01-01  52353.0\n",
       "2014-02-01  63833.0\n",
       "2014-03-01  42252.0\n",
       "2014-04-01  48790.0\n",
       "2014-05-01  42294.0"
      ]
     },
     "execution_count": 15,
     "metadata": {},
     "output_type": "execute_result"
    }
   ],
   "source": [
    "#Converting Dictionary to Dataframe\n",
    "sunspot_north=pd.DataFrame.from_dict(unique_months,orient='index')\n",
    "    \n",
    "sunspot_north.head()"
   ]
  },
  {
   "cell_type": "code",
   "execution_count": 16,
   "metadata": {},
   "outputs": [
    {
     "data": {
      "text/html": [
       "<div>\n",
       "<style scoped>\n",
       "    .dataframe tbody tr th:only-of-type {\n",
       "        vertical-align: middle;\n",
       "    }\n",
       "\n",
       "    .dataframe tbody tr th {\n",
       "        vertical-align: top;\n",
       "    }\n",
       "\n",
       "    .dataframe thead th {\n",
       "        text-align: right;\n",
       "    }\n",
       "</style>\n",
       "<table border=\"1\" class=\"dataframe\">\n",
       "  <thead>\n",
       "    <tr style=\"text-align: right;\">\n",
       "      <th></th>\n",
       "      <th>North</th>\n",
       "    </tr>\n",
       "  </thead>\n",
       "  <tbody>\n",
       "    <tr>\n",
       "      <th>2014-01-01</th>\n",
       "      <td>52353.0</td>\n",
       "    </tr>\n",
       "    <tr>\n",
       "      <th>2014-02-01</th>\n",
       "      <td>63833.0</td>\n",
       "    </tr>\n",
       "    <tr>\n",
       "      <th>2014-03-01</th>\n",
       "      <td>42252.0</td>\n",
       "    </tr>\n",
       "    <tr>\n",
       "      <th>2014-04-01</th>\n",
       "      <td>48790.0</td>\n",
       "    </tr>\n",
       "    <tr>\n",
       "      <th>2014-05-01</th>\n",
       "      <td>42294.0</td>\n",
       "    </tr>\n",
       "  </tbody>\n",
       "</table>\n",
       "</div>"
      ],
      "text/plain": [
       "              North\n",
       "2014-01-01  52353.0\n",
       "2014-02-01  63833.0\n",
       "2014-03-01  42252.0\n",
       "2014-04-01  48790.0\n",
       "2014-05-01  42294.0"
      ]
     },
     "execution_count": 16,
     "metadata": {},
     "output_type": "execute_result"
    }
   ],
   "source": [
    "#Rename column 2 to North\n",
    "sunspot_north.columns = ['North']\n",
    "sunspot_north.head()"
   ]
  },
  {
   "cell_type": "code",
   "execution_count": 17,
   "metadata": {},
   "outputs": [],
   "source": [
    "#Reset Index \n",
    "sunspot_north.reset_index(inplace=True)\n"
   ]
  },
  {
   "cell_type": "code",
   "execution_count": 18,
   "metadata": {},
   "outputs": [
    {
     "data": {
      "text/html": [
       "<div>\n",
       "<style scoped>\n",
       "    .dataframe tbody tr th:only-of-type {\n",
       "        vertical-align: middle;\n",
       "    }\n",
       "\n",
       "    .dataframe tbody tr th {\n",
       "        vertical-align: top;\n",
       "    }\n",
       "\n",
       "    .dataframe thead th {\n",
       "        text-align: right;\n",
       "    }\n",
       "</style>\n",
       "<table border=\"1\" class=\"dataframe\">\n",
       "  <thead>\n",
       "    <tr style=\"text-align: right;\">\n",
       "      <th></th>\n",
       "      <th>Date</th>\n",
       "      <th>North</th>\n",
       "    </tr>\n",
       "  </thead>\n",
       "  <tbody>\n",
       "    <tr>\n",
       "      <th>0</th>\n",
       "      <td>2014-01-01</td>\n",
       "      <td>52353.0</td>\n",
       "    </tr>\n",
       "    <tr>\n",
       "      <th>1</th>\n",
       "      <td>2014-02-01</td>\n",
       "      <td>63833.0</td>\n",
       "    </tr>\n",
       "    <tr>\n",
       "      <th>2</th>\n",
       "      <td>2014-03-01</td>\n",
       "      <td>42252.0</td>\n",
       "    </tr>\n",
       "    <tr>\n",
       "      <th>3</th>\n",
       "      <td>2014-04-01</td>\n",
       "      <td>48790.0</td>\n",
       "    </tr>\n",
       "    <tr>\n",
       "      <th>4</th>\n",
       "      <td>2014-05-01</td>\n",
       "      <td>42294.0</td>\n",
       "    </tr>\n",
       "  </tbody>\n",
       "</table>\n",
       "</div>"
      ],
      "text/plain": [
       "         Date    North\n",
       "0  2014-01-01  52353.0\n",
       "1  2014-02-01  63833.0\n",
       "2  2014-03-01  42252.0\n",
       "3  2014-04-01  48790.0\n",
       "4  2014-05-01  42294.0"
      ]
     },
     "execution_count": 18,
     "metadata": {},
     "output_type": "execute_result"
    }
   ],
   "source": [
    "#Rename column 1 to Date\n",
    "sunspot_north.rename(columns={\"index\": \"Date\"},inplace=True)\n",
    "sunspot_north.head()"
   ]
  },
  {
   "cell_type": "code",
   "execution_count": 19,
   "metadata": {},
   "outputs": [
    {
     "name": "stdout",
     "output_type": "stream",
     "text": [
      "{'2014-01-01': 92946.0, '2014-02-01': 112854.0, '2014-03-01': 63644.0, '2014-04-01': 67256.0, '2014-05-01': 58940.0, '2014-06-01': 51856.0, '2014-07-01': 74732.0, '2014-08-01': 49056.0, '2014-09-01': 66752.0, '2014-10-01': 109564.0, '2014-11-01': 73136.0, '2014-12-01': 89292.0, '2015-01-01': 59948.0, '2015-02-01': 30968.0, '2015-03-01': 31794.0, '2015-04-01': 42196.0, '2015-05-01': 38752.0, '2015-06-01': 50428.0, '2015-07-01': 31920.0, '2015-08-01': 44382.8, '2015-09-01': 35616.0, '2015-10-01': 28812.0, '2015-11-01': 23828.0, '2015-12-01': 35280.0, '2016-01-01': 22736.0, '2016-02-01': 22148.0, '2016-03-01': 18368.0, '2016-04-01': 33992.0, '2016-05-01': 31164.0, '2016-06-01': 13244.0, '2016-07-01': 20748.0, '2016-08-01': 17528.0, '2016-09-01': 21938.0, '2016-10-01': 18088.0, '2016-11-01': 5768.0, '2016-12-01': 6076.0, '2017-01-01': 10864.0, '2017-02-01': 5768.0, '2017-03-01': 6048.0, '2017-04-01': 20916.0, '2017-05-01': 4681.6, '2017-06-01': 8316.0, '2017-07-01': 16450.0, '2017-08-01': 21476.0, '2017-09-01': 49840.0, '2017-10-01': 10360.0, '2017-11-01': 1596.0, '2017-12-01': 1932.0, '2018-01-01': 532.0, '2018-02-01': 6132.0, '2018-03-01': 168.0, '2018-04-01': 1680.0, '2018-05-01': 2100.0, '2018-06-01': 3780.0, '2018-07-01': 28.0, '2018-08-01': 1316.0, '2018-09-01': 112.0, '2018-10-01': 476.0, '2018-11-01': 672.0, '2018-12-01': 280.0, '2019-01-01': 2072.0, '2019-02-01': 0.0, '2019-03-01': 3332.0, '2019-04-01': 11200.0, '2019-05-01': 10780.0, '2019-06-01': 112.0, '2019-07-01': 56.0, '2019-08-01': 28.0}\n"
     ]
    }
   ],
   "source": [
    "##Adding South Total to Dates\n",
    "for i, row in sunspots.iterrows():\n",
    "    unique_months[datetime(int(row['Year']),int(row['Month']), 1).strftime(\"%Y-%m-%d\")] = unique_months[datetime(int(row['Year']),int(row['Month']), 1).strftime(\"%Y-%m-%d\")] + row['South'] \n",
    "print(unique_months)"
   ]
  },
  {
   "cell_type": "code",
   "execution_count": 20,
   "metadata": {},
   "outputs": [
    {
     "data": {
      "text/html": [
       "<div>\n",
       "<style scoped>\n",
       "    .dataframe tbody tr th:only-of-type {\n",
       "        vertical-align: middle;\n",
       "    }\n",
       "\n",
       "    .dataframe tbody tr th {\n",
       "        vertical-align: top;\n",
       "    }\n",
       "\n",
       "    .dataframe thead th {\n",
       "        text-align: right;\n",
       "    }\n",
       "</style>\n",
       "<table border=\"1\" class=\"dataframe\">\n",
       "  <thead>\n",
       "    <tr style=\"text-align: right;\">\n",
       "      <th></th>\n",
       "      <th>0</th>\n",
       "    </tr>\n",
       "  </thead>\n",
       "  <tbody>\n",
       "    <tr>\n",
       "      <th>2014-01-01</th>\n",
       "      <td>92946.0</td>\n",
       "    </tr>\n",
       "    <tr>\n",
       "      <th>2014-02-01</th>\n",
       "      <td>112854.0</td>\n",
       "    </tr>\n",
       "    <tr>\n",
       "      <th>2014-03-01</th>\n",
       "      <td>63644.0</td>\n",
       "    </tr>\n",
       "    <tr>\n",
       "      <th>2014-04-01</th>\n",
       "      <td>67256.0</td>\n",
       "    </tr>\n",
       "    <tr>\n",
       "      <th>2014-05-01</th>\n",
       "      <td>58940.0</td>\n",
       "    </tr>\n",
       "  </tbody>\n",
       "</table>\n",
       "</div>"
      ],
      "text/plain": [
       "                   0\n",
       "2014-01-01   92946.0\n",
       "2014-02-01  112854.0\n",
       "2014-03-01   63644.0\n",
       "2014-04-01   67256.0\n",
       "2014-05-01   58940.0"
      ]
     },
     "execution_count": 20,
     "metadata": {},
     "output_type": "execute_result"
    }
   ],
   "source": [
    "#Convert Dictionary to Dataframe\n",
    "sunspot_south=pd.DataFrame.from_dict(unique_months,orient='index')\n",
    "    \n",
    "sunspot_south.head()"
   ]
  },
  {
   "cell_type": "code",
   "execution_count": 21,
   "metadata": {},
   "outputs": [
    {
     "data": {
      "text/html": [
       "<div>\n",
       "<style scoped>\n",
       "    .dataframe tbody tr th:only-of-type {\n",
       "        vertical-align: middle;\n",
       "    }\n",
       "\n",
       "    .dataframe tbody tr th {\n",
       "        vertical-align: top;\n",
       "    }\n",
       "\n",
       "    .dataframe thead th {\n",
       "        text-align: right;\n",
       "    }\n",
       "</style>\n",
       "<table border=\"1\" class=\"dataframe\">\n",
       "  <thead>\n",
       "    <tr style=\"text-align: right;\">\n",
       "      <th></th>\n",
       "      <th>South</th>\n",
       "    </tr>\n",
       "  </thead>\n",
       "  <tbody>\n",
       "    <tr>\n",
       "      <th>2014-01-01</th>\n",
       "      <td>92946.0</td>\n",
       "    </tr>\n",
       "    <tr>\n",
       "      <th>2014-02-01</th>\n",
       "      <td>112854.0</td>\n",
       "    </tr>\n",
       "    <tr>\n",
       "      <th>2014-03-01</th>\n",
       "      <td>63644.0</td>\n",
       "    </tr>\n",
       "    <tr>\n",
       "      <th>2014-04-01</th>\n",
       "      <td>67256.0</td>\n",
       "    </tr>\n",
       "    <tr>\n",
       "      <th>2014-05-01</th>\n",
       "      <td>58940.0</td>\n",
       "    </tr>\n",
       "  </tbody>\n",
       "</table>\n",
       "</div>"
      ],
      "text/plain": [
       "               South\n",
       "2014-01-01   92946.0\n",
       "2014-02-01  112854.0\n",
       "2014-03-01   63644.0\n",
       "2014-04-01   67256.0\n",
       "2014-05-01   58940.0"
      ]
     },
     "execution_count": 21,
     "metadata": {},
     "output_type": "execute_result"
    }
   ],
   "source": [
    "#Rename column2 to South\n",
    "sunspot_south.columns = ['South']\n",
    "sunspot_south.head()"
   ]
  },
  {
   "cell_type": "code",
   "execution_count": 22,
   "metadata": {},
   "outputs": [],
   "source": [
    "#Reset index\n",
    "sunspot_south.reset_index(inplace=True)"
   ]
  },
  {
   "cell_type": "code",
   "execution_count": 23,
   "metadata": {},
   "outputs": [
    {
     "data": {
      "text/html": [
       "<div>\n",
       "<style scoped>\n",
       "    .dataframe tbody tr th:only-of-type {\n",
       "        vertical-align: middle;\n",
       "    }\n",
       "\n",
       "    .dataframe tbody tr th {\n",
       "        vertical-align: top;\n",
       "    }\n",
       "\n",
       "    .dataframe thead th {\n",
       "        text-align: right;\n",
       "    }\n",
       "</style>\n",
       "<table border=\"1\" class=\"dataframe\">\n",
       "  <thead>\n",
       "    <tr style=\"text-align: right;\">\n",
       "      <th></th>\n",
       "      <th>Date</th>\n",
       "      <th>South</th>\n",
       "    </tr>\n",
       "  </thead>\n",
       "  <tbody>\n",
       "    <tr>\n",
       "      <th>0</th>\n",
       "      <td>2014-01-01</td>\n",
       "      <td>92946.0</td>\n",
       "    </tr>\n",
       "    <tr>\n",
       "      <th>1</th>\n",
       "      <td>2014-02-01</td>\n",
       "      <td>112854.0</td>\n",
       "    </tr>\n",
       "    <tr>\n",
       "      <th>2</th>\n",
       "      <td>2014-03-01</td>\n",
       "      <td>63644.0</td>\n",
       "    </tr>\n",
       "    <tr>\n",
       "      <th>3</th>\n",
       "      <td>2014-04-01</td>\n",
       "      <td>67256.0</td>\n",
       "    </tr>\n",
       "    <tr>\n",
       "      <th>4</th>\n",
       "      <td>2014-05-01</td>\n",
       "      <td>58940.0</td>\n",
       "    </tr>\n",
       "  </tbody>\n",
       "</table>\n",
       "</div>"
      ],
      "text/plain": [
       "         Date     South\n",
       "0  2014-01-01   92946.0\n",
       "1  2014-02-01  112854.0\n",
       "2  2014-03-01   63644.0\n",
       "3  2014-04-01   67256.0\n",
       "4  2014-05-01   58940.0"
      ]
     },
     "execution_count": 23,
     "metadata": {},
     "output_type": "execute_result"
    }
   ],
   "source": [
    "#Rename column 2 to South\n",
    "sunspot_south.rename(columns={\"index\": \"Date\"},inplace=True)\n",
    "sunspot_south.head()"
   ]
  },
  {
   "cell_type": "code",
   "execution_count": 24,
   "metadata": {},
   "outputs": [
    {
     "data": {
      "text/html": [
       "<div>\n",
       "<style scoped>\n",
       "    .dataframe tbody tr th:only-of-type {\n",
       "        vertical-align: middle;\n",
       "    }\n",
       "\n",
       "    .dataframe tbody tr th {\n",
       "        vertical-align: top;\n",
       "    }\n",
       "\n",
       "    .dataframe thead th {\n",
       "        text-align: right;\n",
       "    }\n",
       "</style>\n",
       "<table border=\"1\" class=\"dataframe\">\n",
       "  <thead>\n",
       "    <tr style=\"text-align: right;\">\n",
       "      <th></th>\n",
       "      <th>Date</th>\n",
       "      <th>North</th>\n",
       "      <th>South</th>\n",
       "    </tr>\n",
       "  </thead>\n",
       "  <tbody>\n",
       "    <tr>\n",
       "      <th>0</th>\n",
       "      <td>2014-01-01</td>\n",
       "      <td>52353.0</td>\n",
       "      <td>92946.0</td>\n",
       "    </tr>\n",
       "    <tr>\n",
       "      <th>1</th>\n",
       "      <td>2014-02-01</td>\n",
       "      <td>63833.0</td>\n",
       "      <td>112854.0</td>\n",
       "    </tr>\n",
       "    <tr>\n",
       "      <th>2</th>\n",
       "      <td>2014-03-01</td>\n",
       "      <td>42252.0</td>\n",
       "      <td>63644.0</td>\n",
       "    </tr>\n",
       "    <tr>\n",
       "      <th>3</th>\n",
       "      <td>2014-04-01</td>\n",
       "      <td>48790.0</td>\n",
       "      <td>67256.0</td>\n",
       "    </tr>\n",
       "    <tr>\n",
       "      <th>4</th>\n",
       "      <td>2014-05-01</td>\n",
       "      <td>42294.0</td>\n",
       "      <td>58940.0</td>\n",
       "    </tr>\n",
       "  </tbody>\n",
       "</table>\n",
       "</div>"
      ],
      "text/plain": [
       "         Date    North     South\n",
       "0  2014-01-01  52353.0   92946.0\n",
       "1  2014-02-01  63833.0  112854.0\n",
       "2  2014-03-01  42252.0   63644.0\n",
       "3  2014-04-01  48790.0   67256.0\n",
       "4  2014-05-01  42294.0   58940.0"
      ]
     },
     "execution_count": 24,
     "metadata": {},
     "output_type": "execute_result"
    }
   ],
   "source": [
    "#Merge North and South\n",
    "final_sunspot = pd.merge(sunspot_north,sunspot_south, on=('Date'))\n",
    "final_sunspot.head()"
   ]
  },
  {
   "cell_type": "code",
   "execution_count": 36,
   "metadata": {},
   "outputs": [
    {
     "data": {
      "image/png": "[encoded data removed]",
      "text/plain": [
       "<Figure size 432x288 with 1 Axes>"
      ]
     },
     "metadata": {
      "needs_background": "light"
     },
     "output_type": "display_data"
    }
   ],
   "source": [
    "#Plot line graph\n",
    "x_axis = final_sunspot['Date']\n",
    "North_plot = plt.plot(x_axis, final_sunspot['North'], marker ='o', color='blue', label=\"North\")\n",
    "South_plot = plt.plot(x_axis,final_sunspot['South'], marker='^', color='red', label=\"South\")\n",
    "plt.ylim(-10000,120000)\n",
    "# Add legend\n",
    "plt.legend(loc=\"best\")\n",
    "\n",
    "# Add labels\n",
    "plt.title('North Vs South Sunspots')\n",
    "plt.xlabel('Days')\n",
    "plt.ylabel('Sunspots')\n",
    "    \n",
    "# Add gridlines\n",
    "plt.grid(True,linestyle='dashed')\n",
    "plt.show() \n"
   ]
  },
  {
   "cell_type": "code",
   "execution_count": null,
   "metadata": {},
   "outputs": [],
   "source": []
  },
  {
   "cell_type": "code",
   "execution_count": null,
   "metadata": {},
   "outputs": [],
   "source": []
  },
  {
   "cell_type": "code",
   "execution_count": null,
   "metadata": {},
   "outputs": [],
   "source": []
  },
  {
   "cell_type": "code",
   "execution_count": null,
   "metadata": {},
   "outputs": [],
   "source": []
  }
 ],
 "metadata": {
  "kernelspec": {
   "display_name": "Python 3",
   "language": "python",
   "name": "python3"
  },
  "language_info": {
   "codemirror_mode": {
    "name": "ipython",
    "version": 3
   },
   "file_extension": ".py",
   "mimetype": "text/x-python",
   "name": "python",
   "nbconvert_exporter": "python",
   "pygments_lexer": "ipython3",
   "version": "3.7.3"
  }
 },
 "nbformat": 4,
 "nbformat_minor": 2
}
