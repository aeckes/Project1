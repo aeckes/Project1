{
 "cells": [
  {
   "cell_type": "code",
   "execution_count": 1,
   "metadata": {},
   "outputs": [],
   "source": [
    "import pandas as pd\n",
    "import csv\n",
    "from datetime import datetime "
   ]
  },
  {
   "cell_type": "code",
   "execution_count": 2,
   "metadata": {},
   "outputs": [
    {
     "data": {
      "text/html": [
       "<div>\n",
       "<style scoped>\n",
       "    .dataframe tbody tr th:only-of-type {\n",
       "        vertical-align: middle;\n",
       "    }\n",
       "\n",
       "    .dataframe tbody tr th {\n",
       "        vertical-align: top;\n",
       "    }\n",
       "\n",
       "    .dataframe thead th {\n",
       "        text-align: right;\n",
       "    }\n",
       "</style>\n",
       "<table border=\"1\" class=\"dataframe\">\n",
       "  <thead>\n",
       "    <tr style=\"text-align: right;\">\n",
       "      <th></th>\n",
       "      <th>Year</th>\n",
       "      <th>Month</th>\n",
       "      <th>Day</th>\n",
       "      <th>Total</th>\n",
       "      <th>North</th>\n",
       "      <th>South</th>\n",
       "    </tr>\n",
       "  </thead>\n",
       "  <tbody>\n",
       "    <tr>\n",
       "      <th>0</th>\n",
       "      <td>1874</td>\n",
       "      <td>5</td>\n",
       "      <td>1</td>\n",
       "      <td>-1.0</td>\n",
       "      <td>-1.0</td>\n",
       "      <td>-1.0</td>\n",
       "    </tr>\n",
       "    <tr>\n",
       "      <th>1</th>\n",
       "      <td>1874</td>\n",
       "      <td>5</td>\n",
       "      <td>2</td>\n",
       "      <td>-1.0</td>\n",
       "      <td>-1.0</td>\n",
       "      <td>-1.0</td>\n",
       "    </tr>\n",
       "    <tr>\n",
       "      <th>2</th>\n",
       "      <td>1874</td>\n",
       "      <td>5</td>\n",
       "      <td>3</td>\n",
       "      <td>-1.0</td>\n",
       "      <td>-1.0</td>\n",
       "      <td>-1.0</td>\n",
       "    </tr>\n",
       "    <tr>\n",
       "      <th>3</th>\n",
       "      <td>1874</td>\n",
       "      <td>5</td>\n",
       "      <td>4</td>\n",
       "      <td>-1.0</td>\n",
       "      <td>-1.0</td>\n",
       "      <td>-1.0</td>\n",
       "    </tr>\n",
       "    <tr>\n",
       "      <th>4</th>\n",
       "      <td>1874</td>\n",
       "      <td>5</td>\n",
       "      <td>5</td>\n",
       "      <td>-1.0</td>\n",
       "      <td>-1.0</td>\n",
       "      <td>-1.0</td>\n",
       "    </tr>\n",
       "  </tbody>\n",
       "</table>\n",
       "</div>"
      ],
      "text/plain": [
       "   Year  Month  Day  Total  North  South\n",
       "0  1874      5    1   -1.0   -1.0   -1.0\n",
       "1  1874      5    2   -1.0   -1.0   -1.0\n",
       "2  1874      5    3   -1.0   -1.0   -1.0\n",
       "3  1874      5    4   -1.0   -1.0   -1.0\n",
       "4  1874      5    5   -1.0   -1.0   -1.0"
      ]
     },
     "execution_count": 2,
     "metadata": {},
     "output_type": "execute_result"
    }
   ],
   "source": [
    "# The path to our CSV file\n",
    "file = \"Resources/daily_area.csv.txt\"\n",
    "\n",
    "# Read our purchase data into pandas\n",
    "df = pd.read_csv(file,delim_whitespace=True)\n",
    "\n",
    "df.rename(columns={\"YYYY\": \"Year\", \"MM\": \"Month\", \"DD\":\"Day\"},inplace = True)\n",
    "df.head()"
   ]
  },
  {
   "cell_type": "code",
   "execution_count": 3,
   "metadata": {},
   "outputs": [
    {
     "name": "stderr",
     "output_type": "stream",
     "text": [
      "C:\\ProgramData\\Anaconda3\\lib\\site-packages\\pandas\\core\\ops.py:1649: FutureWarning: elementwise comparison failed; returning scalar instead, but in the future will perform elementwise comparison\n",
      "  result = method(y)\n"
     ]
    },
    {
     "data": {
      "text/html": [
       "<div>\n",
       "<style scoped>\n",
       "    .dataframe tbody tr th:only-of-type {\n",
       "        vertical-align: middle;\n",
       "    }\n",
       "\n",
       "    .dataframe tbody tr th {\n",
       "        vertical-align: top;\n",
       "    }\n",
       "\n",
       "    .dataframe thead th {\n",
       "        text-align: right;\n",
       "    }\n",
       "</style>\n",
       "<table border=\"1\" class=\"dataframe\">\n",
       "  <thead>\n",
       "    <tr style=\"text-align: right;\">\n",
       "      <th></th>\n",
       "      <th>Year</th>\n",
       "      <th>Month</th>\n",
       "      <th>Day</th>\n",
       "      <th>Total</th>\n",
       "      <th>North</th>\n",
       "      <th>South</th>\n",
       "    </tr>\n",
       "  </thead>\n",
       "  <tbody>\n",
       "    <tr>\n",
       "      <th>0</th>\n",
       "      <td>1874</td>\n",
       "      <td>5</td>\n",
       "      <td>1</td>\n",
       "      <td>-1.0</td>\n",
       "      <td>-1.0</td>\n",
       "      <td>-1.0</td>\n",
       "    </tr>\n",
       "    <tr>\n",
       "      <th>1</th>\n",
       "      <td>1874</td>\n",
       "      <td>5</td>\n",
       "      <td>2</td>\n",
       "      <td>-1.0</td>\n",
       "      <td>-1.0</td>\n",
       "      <td>-1.0</td>\n",
       "    </tr>\n",
       "    <tr>\n",
       "      <th>2</th>\n",
       "      <td>1874</td>\n",
       "      <td>5</td>\n",
       "      <td>3</td>\n",
       "      <td>-1.0</td>\n",
       "      <td>-1.0</td>\n",
       "      <td>-1.0</td>\n",
       "    </tr>\n",
       "    <tr>\n",
       "      <th>3</th>\n",
       "      <td>1874</td>\n",
       "      <td>5</td>\n",
       "      <td>4</td>\n",
       "      <td>-1.0</td>\n",
       "      <td>-1.0</td>\n",
       "      <td>-1.0</td>\n",
       "    </tr>\n",
       "    <tr>\n",
       "      <th>4</th>\n",
       "      <td>1874</td>\n",
       "      <td>5</td>\n",
       "      <td>5</td>\n",
       "      <td>-1.0</td>\n",
       "      <td>-1.0</td>\n",
       "      <td>-1.0</td>\n",
       "    </tr>\n",
       "  </tbody>\n",
       "</table>\n",
       "</div>"
      ],
      "text/plain": [
       "   Year  Month  Day  Total  North  South\n",
       "0  1874      5    1   -1.0   -1.0   -1.0\n",
       "1  1874      5    2   -1.0   -1.0   -1.0\n",
       "2  1874      5    3   -1.0   -1.0   -1.0\n",
       "3  1874      5    4   -1.0   -1.0   -1.0\n",
       "4  1874      5    5   -1.0   -1.0   -1.0"
      ]
     },
     "execution_count": 3,
     "metadata": {},
     "output_type": "execute_result"
    }
   ],
   "source": [
    "# Remove row with missing readings (represented as -1)\n",
    "df = df.loc[df['Total'] != '-1.0'].reset_index(drop=True)\n",
    "df.head()"
   ]
  },
  {
   "cell_type": "code",
   "execution_count": 4,
   "metadata": {},
   "outputs": [
    {
     "data": {
      "text/html": [
       "<div>\n",
       "<style scoped>\n",
       "    .dataframe tbody tr th:only-of-type {\n",
       "        vertical-align: middle;\n",
       "    }\n",
       "\n",
       "    .dataframe tbody tr th {\n",
       "        vertical-align: top;\n",
       "    }\n",
       "\n",
       "    .dataframe thead th {\n",
       "        text-align: right;\n",
       "    }\n",
       "</style>\n",
       "<table border=\"1\" class=\"dataframe\">\n",
       "  <thead>\n",
       "    <tr style=\"text-align: right;\">\n",
       "      <th></th>\n",
       "      <th>Year</th>\n",
       "      <th>Month</th>\n",
       "      <th>Day</th>\n",
       "      <th>Total</th>\n",
       "      <th>North</th>\n",
       "      <th>South</th>\n",
       "    </tr>\n",
       "  </thead>\n",
       "  <tbody>\n",
       "    <tr>\n",
       "      <th>51014</th>\n",
       "      <td>2014</td>\n",
       "      <td>1</td>\n",
       "      <td>1</td>\n",
       "      <td>686.0</td>\n",
       "      <td>28.0</td>\n",
       "      <td>658.0</td>\n",
       "    </tr>\n",
       "    <tr>\n",
       "      <th>51015</th>\n",
       "      <td>2014</td>\n",
       "      <td>1</td>\n",
       "      <td>2</td>\n",
       "      <td>854.0</td>\n",
       "      <td>28.0</td>\n",
       "      <td>826.0</td>\n",
       "    </tr>\n",
       "    <tr>\n",
       "      <th>51016</th>\n",
       "      <td>2014</td>\n",
       "      <td>1</td>\n",
       "      <td>3</td>\n",
       "      <td>1974.0</td>\n",
       "      <td>56.0</td>\n",
       "      <td>1918.0</td>\n",
       "    </tr>\n",
       "    <tr>\n",
       "      <th>51017</th>\n",
       "      <td>2014</td>\n",
       "      <td>1</td>\n",
       "      <td>4</td>\n",
       "      <td>2198.0</td>\n",
       "      <td>56.0</td>\n",
       "      <td>2142.0</td>\n",
       "    </tr>\n",
       "    <tr>\n",
       "      <th>51018</th>\n",
       "      <td>2014</td>\n",
       "      <td>1</td>\n",
       "      <td>5</td>\n",
       "      <td>2394.0</td>\n",
       "      <td>70.0</td>\n",
       "      <td>2324.0</td>\n",
       "    </tr>\n",
       "  </tbody>\n",
       "</table>\n",
       "</div>"
      ],
      "text/plain": [
       "       Year  Month  Day   Total  North   South\n",
       "51014  2014      1    1   686.0   28.0   658.0\n",
       "51015  2014      1    2   854.0   28.0   826.0\n",
       "51016  2014      1    3  1974.0   56.0  1918.0\n",
       "51017  2014      1    4  2198.0   56.0  2142.0\n",
       "51018  2014      1    5  2394.0   70.0  2324.0"
      ]
     },
     "execution_count": 4,
     "metadata": {},
     "output_type": "execute_result"
    }
   ],
   "source": [
    "sunspots= df.loc[df[\"Year\"] > 2013, [\n",
    "    \"Year\", \"Month\", \"Day\",\"Total\",\"North\",\"South\"]]\n",
    "sunspots.head()"
   ]
  },
  {
   "cell_type": "code",
   "execution_count": 5,
   "metadata": {},
   "outputs": [],
   "source": [
    "#sunspots.set_index([\"Year\"], inplace = True, \n",
    "                    #append = True, drop = True) \n",
    "#sunspots.head()"
   ]
  },
  {
   "cell_type": "code",
   "execution_count": 6,
   "metadata": {},
   "outputs": [],
   "source": [
    "sunspots.to_csv(\"output/sunspot_2014_19.csv\")\n",
    "    "
   ]
  },
  {
   "cell_type": "code",
   "execution_count": 7,
   "metadata": {},
   "outputs": [],
   "source": [
    "months = []\n",
    "for i,row in sunspots.iterrows():\n",
    "    months.append(datetime(int(row['Year']),int(row['Month']), 1).strftime(\"%Y-%m-%d\"))\n",
    "                "
   ]
  },
  {
   "cell_type": "code",
   "execution_count": 8,
   "metadata": {},
   "outputs": [
    {
     "name": "stdout",
     "output_type": "stream",
     "text": [
      "{'2014-01-01': 0, '2014-02-01': 0, '2014-03-01': 0, '2014-04-01': 0, '2014-05-01': 0, '2014-06-01': 0, '2014-07-01': 0, '2014-08-01': 0, '2014-09-01': 0, '2014-10-01': 0, '2014-11-01': 0, '2014-12-01': 0, '2015-01-01': 0, '2015-02-01': 0, '2015-03-01': 0, '2015-04-01': 0, '2015-05-01': 0, '2015-06-01': 0, '2015-07-01': 0, '2015-08-01': 0, '2015-09-01': 0, '2015-10-01': 0, '2015-11-01': 0, '2015-12-01': 0, '2016-01-01': 0, '2016-02-01': 0, '2016-03-01': 0, '2016-04-01': 0, '2016-05-01': 0, '2016-06-01': 0, '2016-07-01': 0, '2016-08-01': 0, '2016-09-01': 0, '2016-10-01': 0, '2016-11-01': 0, '2016-12-01': 0, '2017-01-01': 0, '2017-02-01': 0, '2017-03-01': 0, '2017-04-01': 0, '2017-05-01': 0, '2017-06-01': 0, '2017-07-01': 0, '2017-08-01': 0, '2017-09-01': 0, '2017-10-01': 0, '2017-11-01': 0, '2017-12-01': 0, '2018-01-01': 0, '2018-02-01': 0, '2018-03-01': 0, '2018-04-01': 0, '2018-05-01': 0, '2018-06-01': 0, '2018-07-01': 0, '2018-08-01': 0, '2018-09-01': 0, '2018-10-01': 0, '2018-11-01': 0, '2018-12-01': 0, '2019-01-01': 0, '2019-02-01': 0, '2019-03-01': 0, '2019-04-01': 0, '2019-05-01': 0, '2019-06-01': 0, '2019-07-01': 0, '2019-08-01': 0}\n"
     ]
    }
   ],
   "source": [
    "unique_months = {}\n",
    "for month in months:\n",
    "    if month not in unique_months.keys():\n",
    "        unique_months[month]=0\n",
    "print(unique_months)\n",
    "\n"
   ]
  },
  {
   "cell_type": "code",
   "execution_count": 9,
   "metadata": {},
   "outputs": [
    {
     "name": "stdout",
     "output_type": "stream",
     "text": [
      "[31, 28, 31, 30, 31, 30, 31, 31, 30, 31, 30, 31, 31, 28, 31, 30, 31, 30, 31, 31, 30, 31, 30, 31, 31, 29, 31, 30, 31, 30, 31, 31, 30, 31, 30, 31, 31, 28, 31, 30, 31, 30, 31, 31, 30, 31, 30, 31, 31, 28, 31, 30, 31, 30, 31, 31, 30, 31, 30, 31, 31, 28, 31, 30, 31, 30, 31, 31]\n"
     ]
    }
   ],
   "source": [
    "count = []\n",
    "for month in unique_months:\n",
    "    count.append(months.count(month))\n",
    "print(count)"
   ]
  },
  {
   "cell_type": "code",
   "execution_count": 10,
   "metadata": {},
   "outputs": [
    {
     "name": "stdout",
     "output_type": "stream",
     "text": [
      "{'2014-01-01': 46473.0, '2014-02-01': 56427.0, '2014-03-01': 31822.0, '2014-04-01': 33628.0, '2014-05-01': 29470.0, '2014-06-01': 25928.0, '2014-07-01': 37366.0, '2014-08-01': 24528.0, '2014-09-01': 33376.0, '2014-10-01': 54782.0, '2014-11-01': 36568.0, '2014-12-01': 44646.0, '2015-01-01': 29974.0, '2015-02-01': 15484.0, '2015-03-01': 15897.0, '2015-04-01': 21098.0, '2015-05-01': 19376.0, '2015-06-01': 25214.0, '2015-07-01': 15960.0, '2015-08-01': 22191.4, '2015-09-01': 17808.0, '2015-10-01': 14406.0, '2015-11-01': 11914.0, '2015-12-01': 17640.0, '2016-01-01': 11368.0, '2016-02-01': 11074.0, '2016-03-01': 9184.0, '2016-04-01': 16996.0, '2016-05-01': 15582.0, '2016-06-01': 6622.0, '2016-07-01': 10374.0, '2016-08-01': 8764.0, '2016-09-01': 10969.0, '2016-10-01': 9044.0, '2016-11-01': 2884.0, '2016-12-01': 3038.0, '2017-01-01': 5432.0, '2017-02-01': 2884.0, '2017-03-01': 3024.0, '2017-04-01': 10458.0, '2017-05-01': 2340.8, '2017-06-01': 4158.0, '2017-07-01': 8225.0, '2017-08-01': 10738.0, '2017-09-01': 24920.0, '2017-10-01': 5180.0, '2017-11-01': 798.0, '2017-12-01': 966.0, '2018-01-01': 266.0, '2018-02-01': 3066.0, '2018-03-01': 84.0, '2018-04-01': 840.0, '2018-05-01': 1050.0, '2018-06-01': 1890.0, '2018-07-01': 14.0, '2018-08-01': 658.0, '2018-09-01': 56.0, '2018-10-01': 238.0, '2018-11-01': 336.0, '2018-12-01': 140.0, '2019-01-01': 1036.0, '2019-02-01': 0.0, '2019-03-01': 1666.0, '2019-04-01': 5600.0, '2019-05-01': 5390.0, '2019-06-01': 56.0, '2019-07-01': 28.0, '2019-08-01': 14.0}\n"
     ]
    }
   ],
   "source": [
    "for i, row in sunspots.iterrows():\n",
    "    unique_months[datetime(int(row['Year']),int(row['Month']), 1).strftime(\"%Y-%m-%d\")] = unique_months[datetime(int(row['Year']),int(row['Month']), 1).strftime(\"%Y-%m-%d\")] + row['Total']\n",
    "print(unique_months)"
   ]
  },
  {
   "cell_type": "code",
   "execution_count": 21,
   "metadata": {},
   "outputs": [
    {
     "data": {
      "text/html": [
       "<div>\n",
       "<style scoped>\n",
       "    .dataframe tbody tr th:only-of-type {\n",
       "        vertical-align: middle;\n",
       "    }\n",
       "\n",
       "    .dataframe tbody tr th {\n",
       "        vertical-align: top;\n",
       "    }\n",
       "\n",
       "    .dataframe thead th {\n",
       "        text-align: right;\n",
       "    }\n",
       "</style>\n",
       "<table border=\"1\" class=\"dataframe\">\n",
       "  <thead>\n",
       "    <tr style=\"text-align: right;\">\n",
       "      <th></th>\n",
       "      <th>0</th>\n",
       "    </tr>\n",
       "  </thead>\n",
       "  <tbody>\n",
       "    <tr>\n",
       "      <th>2014-01-01</th>\n",
       "      <td>46473.0</td>\n",
       "    </tr>\n",
       "    <tr>\n",
       "      <th>2014-02-01</th>\n",
       "      <td>56427.0</td>\n",
       "    </tr>\n",
       "    <tr>\n",
       "      <th>2014-03-01</th>\n",
       "      <td>31822.0</td>\n",
       "    </tr>\n",
       "    <tr>\n",
       "      <th>2014-04-01</th>\n",
       "      <td>33628.0</td>\n",
       "    </tr>\n",
       "    <tr>\n",
       "      <th>2014-05-01</th>\n",
       "      <td>29470.0</td>\n",
       "    </tr>\n",
       "  </tbody>\n",
       "</table>\n",
       "</div>"
      ],
      "text/plain": [
       "                  0\n",
       "2014-01-01  46473.0\n",
       "2014-02-01  56427.0\n",
       "2014-03-01  31822.0\n",
       "2014-04-01  33628.0\n",
       "2014-05-01  29470.0"
      ]
     },
     "execution_count": 21,
     "metadata": {},
     "output_type": "execute_result"
    }
   ],
   "source": [
    "sunspot_new=pd.DataFrame.from_dict(unique_months,orient='index')\n",
    "    \n",
    "sunspot_new.head()"
   ]
  },
  {
   "cell_type": "code",
   "execution_count": 22,
   "metadata": {},
   "outputs": [
    {
     "data": {
      "text/html": [
       "<div>\n",
       "<style scoped>\n",
       "    .dataframe tbody tr th:only-of-type {\n",
       "        vertical-align: middle;\n",
       "    }\n",
       "\n",
       "    .dataframe tbody tr th {\n",
       "        vertical-align: top;\n",
       "    }\n",
       "\n",
       "    .dataframe thead th {\n",
       "        text-align: right;\n",
       "    }\n",
       "</style>\n",
       "<table border=\"1\" class=\"dataframe\">\n",
       "  <thead>\n",
       "    <tr style=\"text-align: right;\">\n",
       "      <th></th>\n",
       "      <th>Total</th>\n",
       "    </tr>\n",
       "  </thead>\n",
       "  <tbody>\n",
       "    <tr>\n",
       "      <th>2014-01-01</th>\n",
       "      <td>46473.0</td>\n",
       "    </tr>\n",
       "    <tr>\n",
       "      <th>2014-02-01</th>\n",
       "      <td>56427.0</td>\n",
       "    </tr>\n",
       "    <tr>\n",
       "      <th>2014-03-01</th>\n",
       "      <td>31822.0</td>\n",
       "    </tr>\n",
       "    <tr>\n",
       "      <th>2014-04-01</th>\n",
       "      <td>33628.0</td>\n",
       "    </tr>\n",
       "    <tr>\n",
       "      <th>2014-05-01</th>\n",
       "      <td>29470.0</td>\n",
       "    </tr>\n",
       "  </tbody>\n",
       "</table>\n",
       "</div>"
      ],
      "text/plain": [
       "              Total\n",
       "2014-01-01  46473.0\n",
       "2014-02-01  56427.0\n",
       "2014-03-01  31822.0\n",
       "2014-04-01  33628.0\n",
       "2014-05-01  29470.0"
      ]
     },
     "execution_count": 22,
     "metadata": {},
     "output_type": "execute_result"
    }
   ],
   "source": [
    "sunspot_new.columns = ['Total']\n",
    "sunspot_new.head()\n"
   ]
  },
  {
   "cell_type": "code",
   "execution_count": 23,
   "metadata": {},
   "outputs": [],
   "source": [
    " sunspot_new.reset_index(inplace=True)\n"
   ]
  },
  {
   "cell_type": "code",
   "execution_count": 24,
   "metadata": {},
   "outputs": [
    {
     "data": {
      "text/html": [
       "<div>\n",
       "<style scoped>\n",
       "    .dataframe tbody tr th:only-of-type {\n",
       "        vertical-align: middle;\n",
       "    }\n",
       "\n",
       "    .dataframe tbody tr th {\n",
       "        vertical-align: top;\n",
       "    }\n",
       "\n",
       "    .dataframe thead th {\n",
       "        text-align: right;\n",
       "    }\n",
       "</style>\n",
       "<table border=\"1\" class=\"dataframe\">\n",
       "  <thead>\n",
       "    <tr style=\"text-align: right;\">\n",
       "      <th></th>\n",
       "      <th>Date</th>\n",
       "      <th>Total</th>\n",
       "    </tr>\n",
       "  </thead>\n",
       "  <tbody>\n",
       "    <tr>\n",
       "      <th>0</th>\n",
       "      <td>2014-01-01</td>\n",
       "      <td>46473.0</td>\n",
       "    </tr>\n",
       "    <tr>\n",
       "      <th>1</th>\n",
       "      <td>2014-02-01</td>\n",
       "      <td>56427.0</td>\n",
       "    </tr>\n",
       "    <tr>\n",
       "      <th>2</th>\n",
       "      <td>2014-03-01</td>\n",
       "      <td>31822.0</td>\n",
       "    </tr>\n",
       "    <tr>\n",
       "      <th>3</th>\n",
       "      <td>2014-04-01</td>\n",
       "      <td>33628.0</td>\n",
       "    </tr>\n",
       "    <tr>\n",
       "      <th>4</th>\n",
       "      <td>2014-05-01</td>\n",
       "      <td>29470.0</td>\n",
       "    </tr>\n",
       "  </tbody>\n",
       "</table>\n",
       "</div>"
      ],
      "text/plain": [
       "         Date    Total\n",
       "0  2014-01-01  46473.0\n",
       "1  2014-02-01  56427.0\n",
       "2  2014-03-01  31822.0\n",
       "3  2014-04-01  33628.0\n",
       "4  2014-05-01  29470.0"
      ]
     },
     "execution_count": 24,
     "metadata": {},
     "output_type": "execute_result"
    }
   ],
   "source": [
    "sunspot_new.rename(columns={\"index\": \"Date\"},inplace=True)\n",
    "sunspot_new.head()"
   ]
  },
  {
   "cell_type": "code",
   "execution_count": null,
   "metadata": {},
   "outputs": [],
   "source": []
  }
 ],
 "metadata": {
  "kernelspec": {
   "display_name": "Python 3",
   "language": "python",
   "name": "python3"
  },
  "language_info": {
   "codemirror_mode": {
    "name": "ipython",
    "version": 3
   },
   "file_extension": ".py",
   "mimetype": "text/x-python",
   "name": "python",
   "nbconvert_exporter": "python",
   "pygments_lexer": "ipython3",
   "version": "3.7.3"
  }
 },
 "nbformat": 4,
 "nbformat_minor": 2
}
