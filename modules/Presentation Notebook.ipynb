{
 "cells": [
  {
   "cell_type": "markdown",
   "metadata": {
    "slideshow": {
     "slide_type": "slide"
    }
   },
   "source": [
    "# Solar Flares and Coronal Mass Ejections\n",
    "\n",
    "<img src=\"https://thenypost.files.wordpress.com/2019/03/solar-storm.jpg?quality=90&strip=all&w=618&h=410&crop=1\">\n",
    "\n",
    "#### By Veena Vinodkumar, Erica Frisch, Jason Peterson, Andrew Eckes"
   ]
  },
  {
   "cell_type": "markdown",
   "metadata": {
    "slideshow": {
     "slide_type": "slide"
    }
   },
   "source": [
    "### What is a Solar Flare?\n",
    "A large eruption of electromagnetic radiation from the sun lasting from minutes to hours. The sudden outburst of electromagnetic energy travels at the speed of light, therefore any effect upon the sunlit side of Earth's exposed outer atmosphere occurs at the same time the event is observed.\n",
    "\n",
    "### What is a Coronal Mass Ejection (CME)?\n",
    "A significant release of plasma and accompanying magnetic field from the solar corona. They often follow solar flares and are normally present during a solar prominence eruption. The plasma is released into the solar wind, and can be observed in coronagraph imagery.\n",
    "\n",
    "### Why do we care?\n",
    "Solar flares and CMEs from the sun partly make up solar storms that can cause geomagnetic storms on Earth.  Notable storms:\n",
    "- May 1921: The storm caused blown fuses and damaged equipment in the Telegraph service in the US.\n",
    "- March 1989: The storm caused variations in the Earth's magnetic field and tripped circuit breakers on the Hydro-Quebec power grid.  This caused a 9 to 12 hour power outage."
   ]
  },
  {
   "cell_type": "markdown",
   "metadata": {
    "slideshow": {
     "slide_type": "slide"
    }
   },
   "source": [
    "### Questions:\n",
    "    1. Do solar flares correlate to CME events?\n",
    "> <span style=\"color:blue\">We wanted to know if CMEs and Solar Flares happened together more often then not.</span>\n",
    "\n",
    "    2. Can we determine where we are in this cycle based on the trend of CME events?\n",
    "> <span style=\"color:blue\">The sun has an 11 year activity cycle, we wanted to know if we could see that trend with the CME and Solar Flare data.</span>\n",
    "\n",
    "    3. Is there a correlation between power of a Solar Flare and speed of a CME, when they happen at the same time.\n",
    "> <span style=\"color:blue\">We wanted to know if there was a link between CME speed and solar flare power when they coincided with each other</span>"
   ]
  },
  {
   "cell_type": "markdown",
   "metadata": {},
   "source": [
    "### Are Solar Flares often linked to CMEs?\n",
    "We were able to identify solar flares and CMEs there were linked to one another.  We looked at how many of each event happened during our test period and how many of those were linked.  We saw that CMEs are far more common.  About a third of solar flares have a CME linked to it.\n",
    "<img src=\"../output/Count_of_CME_Solar_Flares_and_Linked.png\">"
   ]
  },
  {
   "cell_type": "markdown",
   "metadata": {
    "slideshow": {
     "slide_type": "slide"
    }
   },
   "source": [
    "## Does the speed of a Coronal Mass Ejection (CME) affect the power of a Solar Flare?\n",
    "* <span style=\"color:blue\">__NULL HYPOTHESIS:__</span> If a CME is faster,\n",
    "                   then there will be no affect on the power of a coinciding solar flare.\n",
    "* <span style=\"color:blue\">__ALTERNATE HYPOTHESIS:__</span> If a CME is faster,\n",
    "                        then a coinciding solar flare will be more powerful"
   ]
  },
  {
   "cell_type": "markdown",
   "metadata": {
    "slideshow": {
     "slide_type": "slide"
    }
   },
   "source": [
    "After performing the Student's T-Test (independent), we got a p-value of 3.9435e-60.  This is very small!  This proves the NULL Hypothesis is correct.  The R$^2$ value of 0.237 in the regression model also agrees that there is not much of a corrlation.\n",
    "<img src=\"../output/Solar_Flare_Power_vs_CME_Speed.png\">"
   ]
  },
  {
   "cell_type": "markdown",
   "metadata": {
    "slideshow": {
     "slide_type": "slide"
    }
   },
   "source": [
    "Seeing no correlation between the speed of a CME and the power of a solar flare, we looked at the speed of CMEs over time.  There were no obvious patterns other than increased activity at certain times.\n",
    "<img src=\"../output/CME_Speed_over_time.png\">"
   ]
  },
  {
   "cell_type": "markdown",
   "metadata": {
    "slideshow": {
     "slide_type": "slide"
    }
   },
   "source": [
    "We also looked at the power of solar flares over time. There were also no obvious patterns other than increased activity at certain times, just like the CMEs.  We then went on to look at the activity over time.\n",
    " <img src=\"../output/Solar_Flare_Power_over_time.png\">"
   ]
  },
  {
   "cell_type": "markdown",
   "metadata": {
    "slideshow": {
     "slide_type": "slide"
    }
   },
   "source": [
    "### The has an 11 year cycle of activity\n",
    "We had data available back to 2010.  We looked at the number of occurrences per month since 2010.  We could see a bit of a cyclical pattern!\n",
    "<img src=\"../output/CME_and_Solar_Flare_Counts.png\">"
   ]
  },
  {
   "cell_type": "markdown",
   "metadata": {
    "slideshow": {
     "slide_type": "slide"
    }
   },
   "source": [
    "### The has an 11 year cycle of activity\n",
    "We also looked at the number of sunspot occurrences per month.  This showed a similar cycle.\n",
    "<img src=\"../output/Sunspot_Counts.png\">"
   ]
  },
  {
   "cell_type": "markdown",
   "metadata": {
    "slideshow": {
     "slide_type": "slide"
    }
   },
   "source": [
    "### Looking At Other Relationships During the Cycle\n",
    "We looked closer at the peak of activity in 2013-2014 and included Sunspots, Solar Flares, and CMEs.  We wanted to see if there was a correlation.  There was a little bit of increase in activity across all event types\n",
    "<img src=\"../output/2013-2014_Count_by_Event_bar_chart.png\">"
   ]
  },
  {
   "cell_type": "markdown",
   "metadata": {
    "slideshow": {
     "slide_type": "slide"
    }
   },
   "source": [
    "### Looking At Other Relationships During the Cycle\n",
    "We took a closer.  We did not find a strong correlation between CME and Solar Flare occurrences with sunspot activity\n",
    "<img src=\"../output/Linear_Regression_Monthly_Occurances.png\">"
   ]
  },
  {
   "cell_type": "markdown",
   "metadata": {},
   "source": [
    "Run the following code in the terminal to create slideshow when complete (delete this cell first):\n",
    "```jupyter nbconvert Jupyter\\ Slides.ipynb --to slides --post serve```"
   ]
  }
 ],
 "metadata": {
  "celltoolbar": "Slideshow",
  "kernelspec": {
   "display_name": "Python 3",
   "language": "python",
   "name": "python3"
  },
  "language_info": {
   "codemirror_mode": {
    "name": "ipython",
    "version": 3
   },
   "file_extension": ".py",
   "mimetype": "text/x-python",
   "name": "python",
   "nbconvert_exporter": "python",
   "pygments_lexer": "ipython3",
   "version": "3.7.3"
  }
 },
 "nbformat": 4,
 "nbformat_minor": 2
}
