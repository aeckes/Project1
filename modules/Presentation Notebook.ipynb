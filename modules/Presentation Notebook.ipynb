{
 "cells": [
  {
   "cell_type": "markdown",
   "metadata": {
    "slideshow": {
     "slide_type": "slide"
    }
   },
   "source": [
    "# Solar Flares and Coronal Mass Ejections\n",
    "\n",
    "<img src=\"https://thenypost.files.wordpress.com/2019/03/solar-storm.jpg?quality=90&strip=all&w=618&h=410&crop=1\">\n",
    "\n",
    "#### By Veena Vinodkumar, Erica Frisch, Jason Peterson, Andrew Eckes"
   ]
  },
  {
   "cell_type": "markdown",
   "metadata": {
    "slideshow": {
     "slide_type": "slide"
    }
   },
   "source": [
    "### What is a Solar Flare?\n",
    "A large eruption of electromagnetic radiation from the sun lasting from minutes to hours. The sudden outburst of electromagnetic energy travels at the speed of light, therefore any effect upon the sunlit side of Earth's exposed outer atmosphere occurs at the same time the event is observed.\n",
    "\n",
    "### What is a Coronal Mass Ejection (CME)?\n",
    "A significant release of plasma and accompanying magnetic field from the solar corona. They often follow solar flares and are normally present during a solar prominence eruption. The plasma is released into the solar wind, and can be observed in coronagraph imagery.\n",
    "\n",
    "### Why do we care?\n",
    "Solar flares and CMEs from the sun partly make up solar storms that can cause geomagnetic storms on Earth.  Notable storms:\n",
    "- May 1921: The storm caused blown fuses and damaged equipment in the Telegraph service in the US.\n",
    "- March 1989: The storm caused variations in the Earth's magnetic field and tripped circuit breakers on the Hydro-Quebec power grid.  This caused a 9 to 12 hour power outage."
   ]
  },
  {
   "cell_type": "markdown",
   "metadata": {
    "slideshow": {
     "slide_type": "slide"
    }
   },
   "source": [
    "### Questions:\n",
    "    1. Do solar flares correlate to CME events?\n",
    "> <span style=\"color:blue\">We wanted to know if CMEs and Solar Flares happened together more often then not.</span>\n",
    "\n",
    "    2. Can we determine where we are in this cycle based on the trend of CME events?\n",
    "> <span style=\"color:blue\">The sun has an 11 year activity cycle, we wanted to know if we could see that trend with the CME and Solar Flare data.</span>\n",
    "\n",
    "    3. Is there a correlation between power of a Solar Flare and speed of a cME, when they happen at the same time.\n",
    "> <span style=\"color:blue\">We wanted to know if there was a link between CME speed and solar flare power when they coincided with each other</span>\n",
    "\n",
    "    4. What does the \"type\" category for CME stand for? Can we infer a meaning based on some other category value?\n",
    "> <span style=\"color:blue\">In the CME data we found, there was a \"type\" column, but we could not find in the documentation what it meant. </span> \n",
    "> <span style=\"color:blue\">We wanted to see if we could figure it out.</span>"
   ]
  },
  {
   "cell_type": "markdown",
   "metadata": {
    "slideshow": {
     "slide_type": "slide"
    }
   },
   "source": [
    "## Does the speed of a Coronal Mass Ejection (CME) affect the power of a Solar Flare?\n",
    "* <span style=\"color:blue\">__NULL HYPOTHESIS:__</span> If a CME is faster,\n",
    "                   then there will be no affect on the power of a coinciding solar flare.\n",
    "* <span style=\"color:blue\">__ALTERNATE HYPOTHESIS:__</span> If a CME is faster,\n",
    "                        then a coinciding solar flare will be more powerful"
   ]
  },
  {
   "cell_type": "code",
   "execution_count": null,
   "metadata": {},
   "outputs": [],
   "source": []
  },
  {
   "cell_type": "markdown",
   "metadata": {},
   "source": [
    "Run the following code in the terminal to create slideshow when complete (delete this cell first):\n",
    "```jupyter nbconvert Jupyter\\ Slides.ipynb --to slides --post serve```"
   ]
  }
 ],
 "metadata": {
  "celltoolbar": "Slideshow",
  "kernelspec": {
   "display_name": "Python 3",
   "language": "python",
   "name": "python3"
  },
  "language_info": {
   "codemirror_mode": {
    "name": "ipython",
    "version": 3
   },
   "file_extension": ".py",
   "mimetype": "text/x-python",
   "name": "python",
   "nbconvert_exporter": "python",
   "pygments_lexer": "ipython3",
   "version": "3.7.3"
  }
 },
 "nbformat": 4,
 "nbformat_minor": 2
}
