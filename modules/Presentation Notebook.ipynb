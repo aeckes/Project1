{
 "cells": [
  {
   "cell_type": "markdown",
   "metadata": {
    "slideshow": {
     "slide_type": "slide"
    }
   },
   "source": [
    "# Solar Flares and Coronal Mass Ejections\n",
    "#### <names>"
   ]
  },
  {
   "cell_type": "markdown",
   "metadata": {
    "slideshow": {
     "slide_type": "slide"
    }
   },
   "source": [
    "## Does the speed of a Coronal Mass Ejection (CME) affect the power of a Solar Flare?\n",
    "* NULL HYPOTHESIS: If a CME is faster,\n",
    "                   then there will be no affect on the power of a coinciding solar flare.\n",
    "* ALTERNATE HYPOTHESIS: If a CME is faster,\n",
    "                        then a coinciding solar flare will be more powerful"
   ]
  },
  {
   "cell_type": "markdown",
   "metadata": {
    "slideshow": {
     "slide_type": "slide"
    }
   },
   "source": [
    "### Questions:\n",
    "    1. Do solar flares correlate to CME events?\n",
    "    We wanted to know if CMEs and Solar Flares happened together more often then not.\n",
    "\n",
    "    2. Can we determine where we are in this cycle based on the trend of CME events?\n",
    "    The sun has an 11 year activity cycle, we wanted to know if we could see that trend with the CME and Solar Flare data.\n",
    "\n",
    "    3. Is there a correlation between power of a Solar Flare and speed of a cME, when they happen at the same time.\n",
    "    We wanted to know if there was a link between CME speed and solar flare power when they coincided with each other\n",
    "\n",
    "    4. What does the \"type\" category for CME stand for? Can we infer a meaning based on some other category value?\n",
    "    In the CME data we found, there was a \"type\" column, but we could not find in the documentation what it meant.  \n",
    "    We wanted to see if we could figure it out"
   ]
  },
  {
   "cell_type": "code",
   "execution_count": null,
   "metadata": {},
   "outputs": [],
   "source": []
  }
 ],
 "metadata": {
  "celltoolbar": "Slideshow",
  "kernelspec": {
   "display_name": "Python [conda env:PythonData] *",
   "language": "python",
   "name": "conda-env-PythonData-py"
  },
  "language_info": {
   "codemirror_mode": {
    "name": "ipython",
    "version": 3
   },
   "file_extension": ".py",
   "mimetype": "text/x-python",
   "name": "python",
   "nbconvert_exporter": "python",
   "pygments_lexer": "ipython3",
   "version": "3.6.9"
  }
 },
 "nbformat": 4,
 "nbformat_minor": 2
}
